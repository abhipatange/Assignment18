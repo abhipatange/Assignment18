{
 "cells": [
  {
   "cell_type": "code",
   "execution_count": null,
   "id": "3e068a12-c9bf-47bd-bf43-cbf07d0c0386",
   "metadata": {},
   "outputs": [],
   "source": [
    "Q1. What is a time series, and what are some common applications of time series analysis?"
   ]
  },
  {
   "cell_type": "code",
   "execution_count": null,
   "id": "c1f54520-4e34-4022-a936-9d085689b16d",
   "metadata": {},
   "outputs": [],
   "source": [
    "Ans = Time series analysis is used for non-stationary data—things that are constantly\n",
    "fluctuating over time or are affected by time.\n",
    "Industries like finance, retail, and economics frequently use time series analysis because currency and sales are always changing."
   ]
  },
  {
   "cell_type": "code",
   "execution_count": null,
   "id": "4425ff4f-d1e3-44fb-a69a-c43569142dd4",
   "metadata": {},
   "outputs": [],
   "source": []
  },
  {
   "cell_type": "code",
   "execution_count": null,
   "id": "013d8ec8-85b6-4248-b74c-dc517de676ec",
   "metadata": {},
   "outputs": [],
   "source": [
    "Q2. What are some common time series patterns, and how can they be identified and interpreted?"
   ]
  },
  {
   "cell_type": "code",
   "execution_count": null,
   "id": "656f19c5-5675-46e8-a63d-5f3343b9a2c2",
   "metadata": {},
   "outputs": [],
   "source": [
    "Ans = Many methods that recognize patterns in time series do so by first transforming the time series to a more common type of data.\n",
    "Then a classical machine learning algorithm is used to detect and classify the pattern\n",
    "Visual pattern recognition achieves this by first transforming the data."
   ]
  },
  {
   "cell_type": "code",
   "execution_count": null,
   "id": "6f1b1113-e733-47f6-8707-5d5e77594a7d",
   "metadata": {},
   "outputs": [],
   "source": []
  },
  {
   "cell_type": "code",
   "execution_count": null,
   "id": "4dce981b-3e92-47c2-b221-a73b9df8eb0d",
   "metadata": {},
   "outputs": [],
   "source": [
    "Q3. How can time series data be preprocessed before applying analysis techniques?"
   ]
  },
  {
   "cell_type": "code",
   "execution_count": null,
   "id": "e02368e9-f6ca-4094-b8f9-fdbc1f242567",
   "metadata": {},
   "outputs": [],
   "source": [
    "Ans = Fourier Transform can help remove the noise by converting the time series data into the frequency domain, \n",
    "and from there, we can filter out the noisy frequencies. \n",
    "Then, we can apply the inverse Fourier transform to obtain the filtered time series."
   ]
  },
  {
   "cell_type": "code",
   "execution_count": null,
   "id": "3ede3b92-dcff-43f7-b334-831a9fa3c583",
   "metadata": {},
   "outputs": [],
   "source": []
  },
  {
   "cell_type": "code",
   "execution_count": null,
   "id": "cc2efef8-b02f-418a-94ce-b82a303df627",
   "metadata": {},
   "outputs": [],
   "source": [
    "Q4. How can time series forecasting be used in business decision-making, and what are some common\n",
    "challenges and limitations?"
   ]
  },
  {
   "cell_type": "code",
   "execution_count": null,
   "id": "6da2ff87-54c1-4d95-8136-6743b5497c2d",
   "metadata": {},
   "outputs": [],
   "source": [
    "Ans = Time series analysis helps organizations understand the underlying causes of trends or systemic patterns over time.\n",
    "Using data visualizations, business users can see seasonal trends and dig deeper into why these trends occur.\n",
    "With modern analytics platforms, these visualizations can go far beyond line graphs.\n"
   ]
  },
  {
   "cell_type": "code",
   "execution_count": null,
   "id": "66324efa-cb44-48dc-a236-84e53a190c9d",
   "metadata": {},
   "outputs": [],
   "source": []
  },
  {
   "cell_type": "code",
   "execution_count": null,
   "id": "478309b2-f266-4307-9b16-3dcea7be952f",
   "metadata": {},
   "outputs": [],
   "source": [
    "Q5. What is ARIMA modelling, and how can it be used to forecast time series data?"
   ]
  },
  {
   "cell_type": "code",
   "execution_count": null,
   "id": "91e84aae-1f14-4cc1-aff2-994546a3fdd7",
   "metadata": {},
   "outputs": [],
   "source": [
    "Ans = An autoregressive integrated moving average, or ARIMA, is a statistical analysis model \n",
    "that uses time series data to either better understand the data set or to predict future trends.\n",
    "A statistical model is autoregressive if it predicts future values based on past values."
   ]
  },
  {
   "cell_type": "code",
   "execution_count": null,
   "id": "d719e498-00b3-4caa-9219-c662bbf422be",
   "metadata": {},
   "outputs": [],
   "source": []
  },
  {
   "cell_type": "code",
   "execution_count": null,
   "id": "47008c01-7378-44f1-b60c-b7b06edf24c6",
   "metadata": {},
   "outputs": [],
   "source": [
    "Q6. How do Autocorrelation Function (ACF) and Partial Autocorrelation Function (PACF) plots help in\n",
    "identifying the order of ARIMA models?"
   ]
  },
  {
   "cell_type": "code",
   "execution_count": null,
   "id": "f229d6b0-650b-43b6-bb4a-df705f4c0167",
   "metadata": {},
   "outputs": [],
   "source": [
    "Ans =1. ARIMA(0, 0, 0) is a white noise model. (Vt=Nt).\n",
    "    2.ARIMA(0, 1, 0) is a random walk (Vt-V{t-1}=c+Nt, c is mean).\n",
    "     3.ARIMA(0,1,1) exponential smoothing (Vt-V{t-1}=Et+a1*E{t-1})."
   ]
  },
  {
   "cell_type": "code",
   "execution_count": null,
   "id": "6bededd1-b525-40a3-a09d-7f359073c3e4",
   "metadata": {},
   "outputs": [],
   "source": []
  },
  {
   "cell_type": "code",
   "execution_count": null,
   "id": "f7adfe17-a212-4ed3-9b75-aeae7a67fdd4",
   "metadata": {},
   "outputs": [],
   "source": [
    "Q7. What are the assumptions of ARIMA models, and how can they be tested for in practice?"
   ]
  },
  {
   "cell_type": "code",
   "execution_count": null,
   "id": "27de795c-f5a2-42e5-bc56-c94e410b68a0",
   "metadata": {},
   "outputs": [],
   "source": [
    "Ans = he autoregressive-moving average (ARMA) class of models relies on the \n",
    "assumption that the underlying process is weakly stationary,\n",
    "which restricts the mean and variance to be constant and requires the autocovariances to depend only on the time lag."
   ]
  },
  {
   "cell_type": "code",
   "execution_count": null,
   "id": "c59f6c7d-1a28-4aad-aaaf-d8a736a18ba8",
   "metadata": {},
   "outputs": [],
   "source": []
  },
  {
   "cell_type": "code",
   "execution_count": null,
   "id": "fe0981be-76ce-4596-8b19-daa0cde6fbee",
   "metadata": {},
   "outputs": [],
   "source": [
    "Q8. What are some of the limitations of time series analysis? Provide an example of a scenario where the\n",
    "limitations of time series analysis may be particularly relevant."
   ]
  },
  {
   "cell_type": "code",
   "execution_count": null,
   "id": "268828ed-02ec-4012-ac9d-7ba7b3ab9e09",
   "metadata": {},
   "outputs": [],
   "source": [
    "Ans = It can suffer from generalization from a single study where more data points and models were warranted.\n",
    "Human error could misidentify the correct data model, which can have a snowballing effect on the output.\n",
    "It could also be difficult to obtain the appropriate data points."
   ]
  },
  {
   "cell_type": "code",
   "execution_count": null,
   "id": "e2f3acbc-f67a-4e6e-a0a4-2804ebad2685",
   "metadata": {},
   "outputs": [],
   "source": []
  },
  {
   "cell_type": "code",
   "execution_count": null,
   "id": "3d59dff8-a056-4863-832e-20ff87699c2f",
   "metadata": {},
   "outputs": [],
   "source": [
    "Q9. Explain the difference between a stationary and non-stationary time series. How does the stationarity\n",
    "of a time series affect the choice of forecasting model?"
   ]
  },
  {
   "cell_type": "code",
   "execution_count": null,
   "id": "e701e93c-c4ec-4738-b480-2b0b2b4bd94a",
   "metadata": {},
   "outputs": [],
   "source": [
    "Ans = A stationary time series is one whose properties do not depend on the time at which the series is observed.\n",
    "Thus, time series with trends, or with seasonality, are not stationary — the trend and seasonality will affect the value of the time series at different times."
   ]
  },
  {
   "cell_type": "code",
   "execution_count": null,
   "id": "6990b030-31ed-49b1-8f9c-a91e20cc0279",
   "metadata": {},
   "outputs": [],
   "source": []
  }
 ],
 "metadata": {
  "kernelspec": {
   "display_name": "Python 3 (ipykernel)",
   "language": "python",
   "name": "python3"
  },
  "language_info": {
   "codemirror_mode": {
    "name": "ipython",
    "version": 3
   },
   "file_extension": ".py",
   "mimetype": "text/x-python",
   "name": "python",
   "nbconvert_exporter": "python",
   "pygments_lexer": "ipython3",
   "version": "3.10.8"
  }
 },
 "nbformat": 4,
 "nbformat_minor": 5
}
